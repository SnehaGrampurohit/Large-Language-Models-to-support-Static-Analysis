{
 "cells": [
  {
   "cell_type": "code",
   "execution_count": 1,
   "id": "8f8ce41d",
   "metadata": {},
   "outputs": [],
   "source": [
    "import json\n",
    "\n",
    "def parse_sarif_file(sarif_file_path):\n",
    "    with open(sarif_file_path, 'r') as file:\n",
    "        sarif_data = json.load(file)\n",
    "    return sarif_data\n"
   ]
  },
  {
   "cell_type": "code",
   "execution_count": 2,
   "id": "e67767a7",
   "metadata": {},
   "outputs": [],
   "source": [
    "def get_vulnerabilities_count_and_types(sarif_data):\n",
    "    count = len(sarif_data['runs'][0]['results'])\n",
    "    types = [result['ruleId'] for result in sarif_data['runs'][0]['results']]\n",
    "    return count, types\n"
   ]
  },
  {
   "cell_type": "code",
   "execution_count": 3,
   "id": "20063945",
   "metadata": {},
   "outputs": [],
   "source": [
    "def is_vulnerability_in_class(sarif_data, class_name):\n",
    "    for result in sarif_data['runs'][0]['results']:\n",
    "        location = result['locations'][0]['physicalLocation']['artifactLocation']['uri']\n",
    "        if class_name in location:\n",
    "            return True\n",
    "    return False\n"
   ]
  },
  {
   "cell_type": "code",
   "execution_count": null,
   "id": "01cfe568",
   "metadata": {},
   "outputs": [
    {
     "name": "stderr",
     "output_type": "stream",
     "text": [
      "[nltk_data] Downloading package averaged_perceptron_tagger to\n",
      "[nltk_data]     /Users/snehagrampurohit/nltk_data...\n",
      "[nltk_data]   Unzipping taggers/averaged_perceptron_tagger.zip.\n",
      "[nltk_data] Downloading package punkt to\n",
      "[nltk_data]     /Users/snehagrampurohit/nltk_data...\n",
      "[nltk_data]   Unzipping tokenizers/punkt.zip.\n",
      "[nltk_data] Downloading package stopwords to\n",
      "[nltk_data]     /Users/snehagrampurohit/nltk_data...\n",
      "[nltk_data]   Unzipping corpora/stopwords.zip.\n",
      "[nltk_data] Downloading package wordnet to\n",
      "[nltk_data]     /Users/snehagrampurohit/nltk_data...\n"
     ]
    },
    {
     "name": "stdout",
     "output_type": "stream",
     "text": [
      "Training ai.yml: [####################] 100%\n",
      "Training botprofile.yml: [####################] 100%\n",
      "Training computers.yml: [####################] 100%\n",
      "Training conversations.yml: [####################] 100%\n",
      "Training emotion.yml: [####################] 100%\n",
      "Training food.yml: [####################] 100%\n",
      "Training gossip.yml: [####################] 100%\n",
      "Training greetings.yml: [####################] 100%\n",
      "Training health.yml: [####################] 100%\n",
      "Training history.yml: [####################] 100%\n",
      "Training humor.yml: [####################] 100%\n",
      "Training literature.yml: [####################] 100%\n",
      "Training money.yml: [####################] 100%\n",
      "Training movies.yml: [####################] 100%\n",
      "Training politics.yml: [####################] 100%\n",
      "Training psychology.yml: [####################] 100%\n",
      "Training science.yml: [####################] 100%\n",
      "Training sports.yml: [####################] 100%\n",
      "Training trivia.yml: [####################] 100%\n",
      "You: How many vulnerabilities are in my project?\n",
      "Bot: There are 15 vulnerabilities in the project. Types: webgoat-sql-injection, webgoat-sql-injection, webgoat-sql-injection, webgoat-sql-injection, webgoat-sql-injection, webgoat-sql-injection, webgoat-sql-injection, webgoat-sql-injection, webgoat-sql-injection, webgoat-sql-injection, webgoat-sql-injection, webgoat-sql-injection, webgoat-sql-injection, webgoat-sql-injection, webgoat-sql-injection\n",
      "You: Is there a vulnerability in the webgoat-sql-injection class?\n",
      "Bot: No vulnerabilities found in the the webgoat-sql-injection class? class.\n"
     ]
    }
   ],
   "source": [
    "from chatterbot import ChatBot\n",
    "from chatterbot.trainers import ChatterBotCorpusTrainer\n",
    "\n",
    "chatbot = ChatBot('SARIFBot')\n",
    "trainer = ChatterBotCorpusTrainer(chatbot)\n",
    "\n",
    "# Train the chatbot on some generic responses\n",
    "trainer.train(\"chatterbot.corpus.english\")\n",
    "\n",
    "# Integrate the SARIF data processing queries\n",
    "def chat_with_bot(user_input):\n",
    "    if \"vulnerabilities\" in user_input:\n",
    "        count, types = get_vulnerabilities_count_and_types(parsed_sarif_data)\n",
    "        response = f\"There are {count} vulnerabilities in the project. Types: {', '.join(types)}\"\n",
    "    elif \"vulnerability in\" in user_input:\n",
    "        class_name = user_input.split(\"vulnerability in\")[1].strip()\n",
    "        if is_vulnerability_in_class(parsed_sarif_data, class_name):\n",
    "            response = f\"There is a vulnerability in the {class_name} class. More details...\"\n",
    "        else:\n",
    "            response = f\"No vulnerabilities found in the {class_name} class.\"\n",
    "    else:\n",
    "        response = chatbot.get_response(user_input)\n",
    "    return response\n",
    "\n",
    "# Load and parse the SARIF file\n",
    "parsed_sarif_data = parse_sarif_file('secucheck-wegoat-sql-injection-results.sarif')\n",
    "\n",
    "# Start a conversation with the chatbot\n",
    "user_input = input(\"You: \")\n",
    "while user_input.lower() != \"exit\":\n",
    "    response = chat_with_bot(user_input)\n",
    "    print(\"Bot:\", response)\n",
    "    user_input = input(\"You: \")\n"
   ]
  },
  {
   "cell_type": "code",
   "execution_count": 12,
   "id": "236ad1c3",
   "metadata": {},
   "outputs": [
    {
     "name": "stdout",
     "output_type": "stream",
     "text": [
      "Collecting chatterbot==1.0.0\n",
      "  Downloading ChatterBot-1.0.0-py2.py3-none-any.whl (65 kB)\n",
      "\u001b[K     |████████████████████████████████| 65 kB 2.5 MB/s eta 0:00:01\n",
      "\u001b[?25hRequirement already satisfied: chatterbot-corpus<1.3,>=1.2 in /Users/snehagrampurohit/opt/anaconda3/lib/python3.8/site-packages (from chatterbot==1.0.0) (1.2.0)\n",
      "Collecting python-dateutil<2.8,>=2.7\n",
      "  Using cached python_dateutil-2.7.5-py2.py3-none-any.whl (225 kB)\n",
      "Collecting pymongo<4.0,>=3.3\n",
      "  Using cached pymongo-3.13.0-cp38-cp38-macosx_10_9_x86_64.whl (395 kB)\n",
      "Collecting pint>=0.8.1\n",
      "  Using cached Pint-0.21.1-py3-none-any.whl (290 kB)\n",
      "Collecting sqlalchemy<1.3,>=1.2\n",
      "  Using cached SQLAlchemy-1.2.19.tar.gz (5.7 MB)\n",
      "Requirement already satisfied: nltk<4.0,>=3.2 in /Users/snehagrampurohit/opt/anaconda3/lib/python3.8/site-packages (from chatterbot==1.0.0) (3.6.1)\n",
      "Collecting mathparse<0.2,>=0.1\n",
      "  Using cached mathparse-0.1.2-py3-none-any.whl (7.2 kB)\n",
      "Requirement already satisfied: PyYAML<4.0,>=3.12 in /Users/snehagrampurohit/opt/anaconda3/lib/python3.8/site-packages (from chatterbot-corpus<1.3,>=1.2->chatterbot==1.0.0) (3.13)\n",
      "Requirement already satisfied: regex in /Users/snehagrampurohit/opt/anaconda3/lib/python3.8/site-packages (from nltk<4.0,>=3.2->chatterbot==1.0.0) (2021.4.4)\n",
      "Requirement already satisfied: click in /Users/snehagrampurohit/opt/anaconda3/lib/python3.8/site-packages (from nltk<4.0,>=3.2->chatterbot==1.0.0) (7.1.2)\n",
      "Requirement already satisfied: tqdm in /Users/snehagrampurohit/opt/anaconda3/lib/python3.8/site-packages (from nltk<4.0,>=3.2->chatterbot==1.0.0) (4.59.0)\n",
      "Requirement already satisfied: joblib in /Users/snehagrampurohit/opt/anaconda3/lib/python3.8/site-packages (from nltk<4.0,>=3.2->chatterbot==1.0.0) (1.0.1)\n",
      "Requirement already satisfied: six>=1.5 in /Users/snehagrampurohit/opt/anaconda3/lib/python3.8/site-packages (from python-dateutil<2.8,>=2.7->chatterbot==1.0.0) (1.15.0)\n",
      "Building wheels for collected packages: sqlalchemy\n",
      "  Building wheel for sqlalchemy (setup.py) ... \u001b[?25ldone\n",
      "\u001b[?25h  Created wheel for sqlalchemy: filename=SQLAlchemy-1.2.19-cp38-cp38-macosx_10_9_x86_64.whl size=1105822 sha256=59e67ae57f683b785efacbf68d16bda5671e3ecb5ca55e9dc9a3c1e389daec99\n",
      "  Stored in directory: /Users/snehagrampurohit/Library/Caches/pip/wheels/0d/13/f8/47c2f3157957c3693caffa64a94a718cb1357fe186e4d52e48\n",
      "Successfully built sqlalchemy\n",
      "Installing collected packages: sqlalchemy, python-dateutil, pymongo, pint, mathparse, chatterbot\n",
      "  Attempting uninstall: sqlalchemy\n",
      "    Found existing installation: SQLAlchemy 1.4.7\n",
      "    Uninstalling SQLAlchemy-1.4.7:\n",
      "      Successfully uninstalled SQLAlchemy-1.4.7\n",
      "  Attempting uninstall: python-dateutil\n",
      "    Found existing installation: python-dateutil 2.8.1\n",
      "    Uninstalling python-dateutil-2.8.1:\n",
      "      Successfully uninstalled python-dateutil-2.8.1\n",
      "\u001b[31mERROR: pip's dependency resolver does not currently take into account all the packages that are installed. This behaviour is the source of the following dependency conflicts.\n",
      "conda-repo-cli 1.0.4 requires pathlib, which is not installed.\n",
      "pandas 1.5.2 requires python-dateutil>=2.8.1, but you have python-dateutil 2.7.5 which is incompatible.\u001b[0m\n",
      "Successfully installed chatterbot-1.0.0 mathparse-0.1.2 pint-0.21.1 pymongo-3.13.0 python-dateutil-2.7.5 sqlalchemy-1.2.19\n"
     ]
    }
   ],
   "source": [
    "!pip install chatterbot==1.0.0"
   ]
  },
  {
   "cell_type": "code",
   "execution_count": null,
   "id": "1dca6025",
   "metadata": {},
   "outputs": [],
   "source": []
  }
 ],
 "metadata": {
  "kernelspec": {
   "display_name": "Python 3",
   "language": "python",
   "name": "python3"
  },
  "language_info": {
   "codemirror_mode": {
    "name": "ipython",
    "version": 3
   },
   "file_extension": ".py",
   "mimetype": "text/x-python",
   "name": "python",
   "nbconvert_exporter": "python",
   "pygments_lexer": "ipython3",
   "version": "3.8.8"
  }
 },
 "nbformat": 4,
 "nbformat_minor": 5
}
